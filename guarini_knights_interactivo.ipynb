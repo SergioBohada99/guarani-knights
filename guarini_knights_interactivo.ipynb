{
 "cells": [
  {
   "cell_type": "code",
   "execution_count": 1,
   "id": "590fd521",
   "metadata": {},
   "outputs": [],
   "source": [
    "from collections import deque\n",
    "import argparse\n",
    "import networkx as nx\n",
    "import pandas as pd\n",
    "from typing import List, Tuple"
   ]
  },
  {
   "cell_type": "markdown",
   "id": "3bcca40b",
   "metadata": {},
   "source": [
    "ESTADOS INICIALES, MOVIMIENTOS POSIBLES Y FUNCIONES AUXILIARES"
   ]
  },
  {
   "cell_type": "code",
   "execution_count": 2,
   "id": "f5c19253",
   "metadata": {},
   "outputs": [],
   "source": [
    "INIT_STATE: Tuple[int, ...] = (1, 0, 1,\n",
    "                               0, 0, 0,\n",
    "                               2, 0, 2)\n",
    "\n",
    "GOAL_STATE: Tuple[int, ...] = (2, 0, 2,\n",
    "                               0, 0, 0,\n",
    "                               1, 0, 1)\n",
    "\n",
    "KNIGHT_OFFSETS = [(2, 1), (1, 2), (-1, 2), (-2, 1),\n",
    "                  (-2, -1), (-1, -2), (1, -2), (2, -1)]\n",
    "\n",
    "\n",
    "def idx_to_coord(idx: int) -> Tuple[int, int]:\n",
    "    return divmod(idx, 3)\n",
    "\n",
    "\n",
    "def coord_to_idx(r: int, c: int) -> int:\n",
    "    return 3 * r + c"
   ]
  },
  {
   "cell_type": "markdown",
   "id": "8b34d4dc",
   "metadata": {},
   "source": [
    "CALCULOS DE DESTINOS POSIBLES Y FUNCIÓN GENERADORA DE TRANSICIONES"
   ]
  },
  {
   "cell_type": "code",
   "execution_count": 3,
   "id": "f7036fa1",
   "metadata": {},
   "outputs": [],
   "source": [
    "#precálculo de destinos\n",
    "DEST = {}\n",
    "for i in range(9):\n",
    "    r, c = idx_to_coord(i)\n",
    "    DEST[i] = [coord_to_idx(r + dr, c + dc)\n",
    "               for dr, dc in KNIGHT_OFFSETS\n",
    "               if 0 <= r + dr < 3 and 0 <= c + dc < 3]\n",
    "\n",
    "\n",
    "def successors(state: Tuple[int, ...]):\n",
    "    s = list(state)\n",
    "    for i, piece in enumerate(s):\n",
    "        if piece in (1, 2):\n",
    "            for d in DEST[i]:\n",
    "                if s[d] == 0:\n",
    "                    nxt = s.copy()\n",
    "                    nxt[i] = 0\n",
    "                    nxt[d] = piece\n",
    "                    yield tuple(nxt)"
   ]
  },
  {
   "cell_type": "markdown",
   "id": "36b195f5",
   "metadata": {},
   "source": [
    "CREACIÓN DEL GRAFO Y CONEXIONES DIRIGIDAS u -> v"
   ]
  },
  {
   "cell_type": "code",
   "execution_count": 4,
   "id": "7396f7ea",
   "metadata": {},
   "outputs": [],
   "source": [
    "def successors(state: Tuple[int, ...]):\n",
    "    s = list(state)\n",
    "    for i, piece in enumerate(s):\n",
    "        if piece in (1, 2):\n",
    "            for d in DEST[i]:\n",
    "                if s[d] == 0:\n",
    "                    nxt = s.copy()\n",
    "                    nxt[i] = 0\n",
    "                    nxt[d] = piece\n",
    "                    yield tuple(nxt)\n",
    "\n",
    "\n",
    "def build_graph(start: Tuple[int, ...]) -> nx.DiGraph:\n",
    "    g = nx.DiGraph()\n",
    "    g.add_node(start)\n",
    "    q = deque([start])\n",
    "    while q:\n",
    "        u = q.popleft()\n",
    "        for v in successors(u):\n",
    "            if v not in g:\n",
    "                q.append(v)\n",
    "            g.add_edge(u, v)\n",
    "    return g"
   ]
  },
  {
   "cell_type": "markdown",
   "id": "c6968039",
   "metadata": {},
   "source": [
    "BUSQUEDA DE LA RUTA MÁS CORTA"
   ]
  },
  {
   "cell_type": "code",
   "execution_count": 5,
   "id": "08898961",
   "metadata": {},
   "outputs": [],
   "source": [
    "def shortest_path(g: nx.DiGraph,\n",
    "                  s: Tuple[int, ...],\n",
    "                  t: Tuple[int, ...]) -> List[Tuple[int, ...]]:\n",
    "    return nx.shortest_path(g, source=s, target=t)"
   ]
  },
  {
   "cell_type": "markdown",
   "id": "b1b75564",
   "metadata": {},
   "source": [
    "REPRESENTACION EN CONSOLA, SLIDERS Y HTML\n"
   ]
  },
  {
   "cell_type": "code",
   "execution_count": 6,
   "id": "624af553",
   "metadata": {},
   "outputs": [],
   "source": [
    "# ──────────── Pretty print ─────────────\n",
    "def board_lines(state: Tuple[int, ...]) -> List[str]:\n",
    "    sym = {0: \"·\", 1: \"♞\", 2: \"♘\"}\n",
    "    return [\" \".join(sym[state[3 * r + c]] for c in range(3)) for r in range(3)]\n",
    "\n"
   ]
  },
  {
   "cell_type": "code",
   "execution_count": 7,
   "id": "902d8fec",
   "metadata": {},
   "outputs": [],
   "source": [
    "# ╭──────────────────────────────────────────────────────────╮\n",
    "# │                1.  SLIDER  (ipywidgets)                 │\n",
    "# ╰──────────────────────────────────────────────────────────╯\n",
    "def show_slider():\n",
    "    \"\"\"Abre un slider interactivo en Jupyter para recorrer la ruta óptima.\"\"\"\n",
    "    try:\n",
    "        import ipywidgets as widgets\n",
    "        from IPython.display import display, Markdown\n",
    "    except ImportError:\n",
    "        raise RuntimeError(\"Necesitas instalar ipywidgets:  pip install ipywidgets\")\n",
    "\n",
    "    g = build_graph(INIT_STATE)\n",
    "    path = shortest_path(g, INIT_STATE, GOAL_STATE)\n",
    "    n_steps = len(path) - 1\n",
    "\n",
    "    slider = widgets.IntSlider(min=0, max=n_steps, step=1,\n",
    "                               description=\"Paso\", value=0,\n",
    "                               continuous_update=False)\n",
    "\n",
    "    out = widgets.Output()\n",
    "\n",
    "    def render(step: int):\n",
    "        state = path[step]\n",
    "        txt = \"\\n\".join(board_lines(state))\n",
    "        with out:\n",
    "            out.clear_output(wait=True)\n",
    "            display(Markdown(f\"**Paso {step}/{n_steps}**\\n```\\n{txt}\\n```\"))\n",
    "\n",
    "    render(0)  # inicial\n",
    "    slider.observe(lambda ch: render(ch[\"new\"]), names=\"value\")\n",
    "    display(slider, out)\n",
    "\n"
   ]
  },
  {
   "cell_type": "code",
   "execution_count": 8,
   "id": "3b476745",
   "metadata": {},
   "outputs": [],
   "source": [
    "def show_graph(filename: str = \"guarini.html\", height=\"750px\", width=\"100%\"):\n",
    "    \"\"\"Genera un HTML interactivo con el grafo completo y destaca la ruta óptima.\"\"\"\n",
    "    try:\n",
    "        from pyvis.network import Network\n",
    "        from IPython.display import IFrame\n",
    "    except ImportError:\n",
    "        raise RuntimeError(\"Necesitas instalar pyvis:  pip install pyvis\")\n",
    "\n",
    "    g = build_graph(INIT_STATE)\n",
    "    path = shortest_path(g, INIT_STATE, GOAL_STATE)\n",
    "\n",
    "    net = Network(height=height, width=width, directed=True, notebook=True,\n",
    "                  bgcolor=\"#ffffff\", font_color=\"black\")\n",
    "\n",
    "    # Mapea cada nodo a una cadena de texto para PyVis\n",
    "    id_map = {node: str(node) for node in g.nodes()}\n",
    "\n",
    "    # Marca nodos especiales (inicio, fin, normales)\n",
    "    for node, node_id in id_map.items():\n",
    "        color = \"#ff7f0e\" if node == INIT_STATE else \\\n",
    "                \"#2ca02c\" if node == GOAL_STATE else \"#1f77b4\"\n",
    "\n",
    "        label = \"\\n\".join(\"\".join(\"♞\" if x == 1 else \"♘\" if x == 2 else \"·\"\n",
    "                                  for x in node[i*3:(i+1)*3]) for i in range(3))\n",
    "\n",
    "        net.add_node(node_id, label=label, color=color, physics=True)\n",
    "\n",
    "    # Crear conjunto de aristas en la ruta óptima\n",
    "    path_edges = set(zip(path, path[1:]))\n",
    "\n",
    "    for u, v in g.edges():\n",
    "        uid = id_map[u]\n",
    "        vid = id_map[v]\n",
    "        if (u, v) in path_edges:\n",
    "            # Arista en la ruta óptima (color rojo, más ancha)\n",
    "            net.add_edge(uid, vid, color=\"red\", width=4)\n",
    "        else:\n",
    "            # Arista normal\n",
    "            net.add_edge(uid, vid, color=\"#cccccc\", width=1)\n",
    "\n",
    "    net.show(filename)\n",
    "    print(f\"Archivo HTML generado: {filename}\")\n",
    "    try:\n",
    "        return IFrame(filename, height=height, width=width)\n",
    "    except Exception:\n",
    "        return None"
   ]
  },
  {
   "cell_type": "markdown",
   "id": "d75ec03f",
   "metadata": {},
   "source": [
    "Ejecutar el slide_show - SOLO DISPONIBLE PARA JUPITERNOTEBOOKS"
   ]
  },
  {
   "cell_type": "code",
   "execution_count": null,
   "id": "6c52ef86",
   "metadata": {},
   "outputs": [
    {
     "data": {
      "application/vnd.jupyter.widget-view+json": {
       "model_id": "6e03190031b84ae3b77ad42a1f06b752",
       "version_major": 2,
       "version_minor": 0
      },
      "text/plain": [
       "IntSlider(value=0, continuous_update=False, description='Paso', max=16)"
      ]
     },
     "metadata": {},
     "output_type": "display_data"
    },
    {
     "data": {
      "application/vnd.jupyter.widget-view+json": {
       "model_id": "b50b458dd2124f69a660a48ca2c71efc",
       "version_major": 2,
       "version_minor": 0
      },
      "text/plain": [
       "Output()"
      ]
     },
     "metadata": {},
     "output_type": "display_data"
    }
   ],
   "source": [
    "# Asegura que se cargue la extensión de widgets (solo es necesario una vez por notebook)\n",
    "%matplotlib inline\n",
    "%reload_ext autoreload\n",
    "%autoreload 2\n",
    "\n",
    "# Importa la función del archivo guarini_knights_interactivo.py\n",
    "from guarini_knights_interactivo import show_slider\n",
    "\n",
    "# Ejecuta el slider\n",
    "show_slider()\n"
   ]
  }
 ],
 "metadata": {
  "kernelspec": {
   "display_name": ".venv",
   "language": "python",
   "name": "python3"
  },
  "language_info": {
   "codemirror_mode": {
    "name": "ipython",
    "version": 3
   },
   "file_extension": ".py",
   "mimetype": "text/x-python",
   "name": "python",
   "nbconvert_exporter": "python",
   "pygments_lexer": "ipython3",
   "version": "3.12.3"
  }
 },
 "nbformat": 4,
 "nbformat_minor": 5
}
